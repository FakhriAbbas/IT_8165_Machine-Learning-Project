{
 "cells": [
  {
   "cell_type": "code",
   "execution_count": 1,
   "metadata": {
    "collapsed": true
   },
   "outputs": [],
   "source": [
    "from sklearn.feature_extraction.text import TfidfVectorizer\n",
    "from sklearn.preprocessing import StandardScaler\n",
    "from sklearn.neighbors import KNeighborsClassifier\n",
    "from time import time\n",
    "import pandas as pd\n",
    "import numpy as np "
   ]
  },
  {
   "cell_type": "code",
   "execution_count": 2,
   "metadata": {
    "collapsed": true
   },
   "outputs": [],
   "source": [
    "#data prepration\n",
    "data = pd.read_csv(\"/Users/fabbas1/Google Drive/study/Phd/Machine Learning/assignment/ITCS6156_SLProject/AmazonReviews/amazon_baby_train_clean.csv\")\n",
    "data_test = pd.read_csv(\"/Users/fabbas1/Google Drive/study/Phd/Machine Learning/assignment/ITCS6156_SLProject/AmazonReviews/amazon_baby_test_clean.csv\")\n",
    "\n",
    "#drop unnecessary columns\n",
    "del data['Unnamed: 0']\n",
    "del data['name_processed']\n",
    "del data['review_processed']\n",
    "del data_test['Unnamed: 0']\n",
    "del data_test['name_processed']\n",
    "del data_test['review_processed']\n"
   ]
  },
  {
   "cell_type": "code",
   "execution_count": 3,
   "metadata": {
    "collapsed": false
   },
   "outputs": [
    {
     "data": {
      "text/plain": [
       "(145927, 1000)"
      ]
     },
     "execution_count": 3,
     "metadata": {},
     "output_type": "execute_result"
    }
   ],
   "source": [
    "# create a tf-idf matrix\n",
    "transformer = TfidfVectorizer(max_features=1000)\n",
    "x_train = transformer.fit_transform(data.merged.values.astype('U'))    \n",
    "x_test = transformer.transform(data_test[\"merged\"])\n",
    "x_train.shape"
   ]
  },
  {
   "cell_type": "code",
   "execution_count": 4,
   "metadata": {
    "collapsed": true
   },
   "outputs": [],
   "source": [
    "# target\n",
    "y_train = data['rating']\n",
    "y_test = data_test['rating']"
   ]
  },
  {
   "cell_type": "code",
   "execution_count": 5,
   "metadata": {
    "collapsed": false
   },
   "outputs": [],
   "source": [
    "# parameteres\n",
    "neighbors = np.arange(1,30)\n",
    "weights = ['uniform', 'distance']\n",
    "metrics = [1,2]"
   ]
  },
  {
   "cell_type": "code",
   "execution_count": null,
   "metadata": {
    "collapsed": false
   },
   "outputs": [
    {
     "name": "stdout",
     "output_type": "stream",
     "text": [
      "metric,weight,neighbor,accuracy/train,accuracy/test,time\n"
     ]
    }
   ],
   "source": [
    "print(\"metric,weight,neighbor,accuracy/train,accuracy/test,time\")\n",
    "for metric in metrics:\n",
    "    for weight in weights:\n",
    "        for neighbor in neighbors:\n",
    "            clf = KNeighborsClassifier(n_neighbors = neighbor, weights=weight,p=metric)\n",
    "            start = time()\n",
    "            clf.fit(x_train, y_train.values.ravel())\n",
    "            print(metric , \",\" , weight , \",\" , neighbor , \",\" ,clf.score(x_train,y_train) , \",\" , \n",
    "                  clf.score(x_test,y_test) , \",\" , time() - start)"
   ]
  },
  {
   "cell_type": "code",
   "execution_count": null,
   "metadata": {
    "collapsed": true
   },
   "outputs": [],
   "source": []
  }
 ],
 "metadata": {
  "anaconda-cloud": {},
  "kernelspec": {
   "display_name": "Python [conda root]",
   "language": "python",
   "name": "conda-root-py"
  },
  "language_info": {
   "codemirror_mode": {
    "name": "ipython",
    "version": 3
   },
   "file_extension": ".py",
   "mimetype": "text/x-python",
   "name": "python",
   "nbconvert_exporter": "python",
   "pygments_lexer": "ipython3",
   "version": "3.5.2"
  }
 },
 "nbformat": 4,
 "nbformat_minor": 1
}
