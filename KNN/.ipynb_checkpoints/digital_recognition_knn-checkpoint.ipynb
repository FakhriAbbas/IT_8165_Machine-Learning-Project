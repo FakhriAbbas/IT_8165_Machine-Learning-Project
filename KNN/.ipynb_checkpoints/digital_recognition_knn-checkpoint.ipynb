{
 "cells": [
  {
   "cell_type": "code",
   "execution_count": 48,
   "metadata": {
    "collapsed": true
   },
   "outputs": [],
   "source": [
    "import pandas as pd\n",
    "from sklearn.preprocessing import StandardScaler\n",
    "from sklearn.neural_network import MLPClassifier\n",
    "from time import time\n",
    "from sklearn.neighbors import KNeighborsClassifier\n",
    "import numpy as np "
   ]
  },
  {
   "cell_type": "code",
   "execution_count": 34,
   "metadata": {
    "collapsed": true
   },
   "outputs": [],
   "source": [
    "# reading training set\n",
    "df_train = pd.read_csv(\"/Users/fabbas1/Google Drive/study/Phd/Machine Learning/assignment/ITCS6156_SLProject/DigitRecognition/optdigits_raining.csv\", \n",
    "                 header=None)\n",
    "# reading test set\n",
    "df_test = pd.read_csv(\"/Users/fabbas1/Google Drive/study/Phd/Machine Learning/assignment/ITCS6156_SLProject/DigitRecognition/optdigits_test.csv\", \n",
    "                 header=None)"
   ]
  },
  {
   "cell_type": "code",
   "execution_count": 35,
   "metadata": {
    "collapsed": false
   },
   "outputs": [
    {
     "name": "stdout",
     "output_type": "stream",
     "text": [
      "(3823, 1)\n",
      "(3823, 64)\n"
     ]
    }
   ],
   "source": [
    "# split features from target values\n",
    "X_train =  df_train.iloc[:, :64]\n",
    "y_train = df_train.iloc[: , 64:]\n",
    "print(y_train.shape)\n",
    "print(X_train.shape)"
   ]
  },
  {
   "cell_type": "code",
   "execution_count": 36,
   "metadata": {
    "collapsed": true
   },
   "outputs": [],
   "source": [
    "# splite testing data \n",
    "X_test = df_test.iloc[:, :64]\n",
    "y_test = df_test.iloc[: , 64:]"
   ]
  },
  {
   "cell_type": "code",
   "execution_count": 64,
   "metadata": {
    "collapsed": false
   },
   "outputs": [],
   "source": [
    "neighbors = np.arange(1,30)\n",
    "weights = ['uniform', 'distance']\n",
    "metrics = [1,2]"
   ]
  },
  {
   "cell_type": "code",
   "execution_count": 65,
   "metadata": {
    "collapsed": false
   },
   "outputs": [
    {
     "name": "stdout",
     "output_type": "stream",
     "text": [
      "metric,weight,neighbor,accuracy/train,accuracy/test,time\n",
      "1 , uniform , 1 , 1.0 , 0.974958263773 , 0.9903609752655029\n",
      "1 , uniform , 2 , 0.989275438138 , 0.9632721202 , 2.3060221672058105\n",
      "1 , uniform , 3 , 0.991891184933 , 0.971062882582 , 2.4433400630950928\n",
      "1 , uniform , 4 , 0.989537012817 , 0.971062882582 , 2.3854010105133057\n",
      "1 , uniform , 5 , 0.988752288778 , 0.968836950473 , 2.5471620559692383\n",
      "1 , uniform , 6 , 0.98796756474 , 0.9693934335 , 2.969586133956909\n",
      "1 , uniform , 7 , 0.986136541983 , 0.972175848637 , 2.7845678329467773\n",
      "1 , uniform , 8 , 0.984567093905 , 0.971062882582 , 2.5982561111450195\n",
      "1 , uniform , 9 , 0.983259220507 , 0.972732331664 , 2.4864659309387207\n",
      "1 , uniform , 10 , 0.98168977243 , 0.9693934335 , 2.460513114929199\n",
      "1 , uniform , 11 , 0.982212921789 , 0.968280467446 , 2.489187002182007\n",
      "1 , uniform , 12 , 0.980381899032 , 0.970506399555 , 2.4799869060516357\n",
      "1 , uniform , 13 , 0.980381899032 , 0.968836950473 , 2.487175941467285\n",
      "1 , uniform , 14 , 0.979858749673 , 0.968280467446 , 2.4429309368133545\n",
      "1 , uniform , 15 , 0.980381899032 , 0.967723984418 , 2.4965147972106934\n",
      "1 , uniform , 16 , 0.979335600314 , 0.966054535337 , 2.4668099880218506\n",
      "1 , uniform , 17 , 0.979335600314 , 0.966054535337 , 2.571491003036499\n",
      "1 , uniform , 18 , 0.979597174993 , 0.966054535337 , 2.479466199874878\n",
      "1 , uniform , 19 , 0.979074025634 , 0.9632721202 , 2.439631938934326\n",
      "1 , uniform , 20 , 0.979074025634 , 0.961602671119 , 2.474909782409668\n",
      "1 , uniform , 21 , 0.978027726916 , 0.961602671119 , 2.6190919876098633\n",
      "1 , uniform , 22 , 0.978027726916 , 0.960489705064 , 2.6658201217651367\n",
      "1 , uniform , 23 , 0.976981428198 , 0.960489705064 , 2.500782012939453\n",
      "1 , uniform , 24 , 0.977504577557 , 0.959933222037 , 2.5794520378112793\n",
      "1 , uniform , 25 , 0.9756735548 , 0.959376739009 , 2.4242470264434814\n",
      "1 , uniform , 26 , 0.975150405441 , 0.960489705064 , 2.6080739498138428\n",
      "1 , uniform , 27 , 0.976196704159 , 0.960489705064 , 2.5027451515197754\n",
      "1 , uniform , 28 , 0.97541198012 , 0.959933222037 , 2.5122790336608887\n",
      "1 , uniform , 29 , 0.9756735548 , 0.959933222037 , 2.477861166000366\n",
      "1 , distance , 1 , 1.0 , 0.974958263773 , 0.9075460433959961\n",
      "1 , distance , 2 , 1.0 , 0.974958263773 , 2.3551831245422363\n",
      "1 , distance , 3 , 1.0 , 0.972732331664 , 2.493060827255249\n",
      "1 , distance , 4 , 1.0 , 0.9755147468 , 2.384006977081299\n",
      "1 , distance , 5 , 1.0 , 0.972175848637 , 2.3766210079193115\n",
      "1 , distance , 6 , 1.0 , 0.972175848637 , 3.104408025741577\n",
      "1 , distance , 7 , 1.0 , 0.971619365609 , 2.4868099689483643\n",
      "1 , distance , 8 , 1.0 , 0.973845297718 , 2.4653701782226562\n",
      "1 , distance , 9 , 1.0 , 0.972732331664 , 2.460843086242676\n",
      "1 , distance , 10 , 1.0 , 0.973845297718 , 2.4812018871307373\n",
      "1 , distance , 11 , 1.0 , 0.971062882582 , 2.4471590518951416\n",
      "1 , distance , 12 , 1.0 , 0.971619365609 , 2.537750005722046\n",
      "1 , distance , 13 , 1.0 , 0.971062882582 , 2.570246934890747\n",
      "1 , distance , 14 , 1.0 , 0.970506399555 , 2.4806811809539795\n",
      "1 , distance , 15 , 1.0 , 0.9693934335 , 2.4969050884246826\n",
      "1 , distance , 16 , 1.0 , 0.967723984418 , 2.4961040019989014\n",
      "1 , distance , 17 , 1.0 , 0.968280467446 , 2.527014970779419\n",
      "1 , distance , 18 , 1.0 , 0.967167501391 , 2.490450143814087\n",
      "1 , distance , 19 , 1.0 , 0.965498052309 , 2.4795689582824707\n",
      "1 , distance , 20 , 1.0 , 0.965498052309 , 2.486809015274048\n",
      "1 , distance , 21 , 1.0 , 0.964385086255 , 2.4954400062561035\n",
      "1 , distance , 22 , 1.0 , 0.965498052309 , 2.4296789169311523\n",
      "1 , distance , 23 , 1.0 , 0.964385086255 , 2.4624061584472656\n",
      "1 , distance , 24 , 1.0 , 0.962715637173 , 2.656766891479492\n",
      "1 , distance , 25 , 1.0 , 0.962159154146 , 2.5402159690856934\n",
      "1 , distance , 26 , 1.0 , 0.962159154146 , 2.49690580368042\n",
      "1 , distance , 27 , 1.0 , 0.962715637173 , 2.437333106994629\n",
      "1 , distance , 28 , 1.0 , 0.9632721202 , 2.4314239025115967\n",
      "1 , distance , 29 , 1.0 , 0.9632721202 , 2.613988161087036\n",
      "2 , uniform , 1 , 1.0 , 0.979966611018 , 1.1763300895690918\n",
      "2 , uniform , 2 , 0.991629610254 , 0.973845297718 , 2.6179800033569336\n",
      "2 , uniform , 3 , 0.992675908972 , 0.978297161937 , 2.1363048553466797\n",
      "2 , uniform , 4 , 0.990844886215 , 0.976627712855 , 2.151028871536255\n",
      "2 , uniform , 5 , 0.989537012817 , 0.978853644964 , 2.2424731254577637\n",
      "2 , uniform , 6 , 0.988752288778 , 0.977740678909 , 2.2338080406188965\n",
      "2 , uniform , 7 , 0.989275438138 , 0.976627712855 , 2.27742600440979\n",
      "2 , uniform , 8 , 0.988490714099 , 0.976627712855 , 2.474445104598999\n",
      "2 , uniform , 9 , 0.987182840701 , 0.977184195882 , 2.3152589797973633\n",
      "2 , uniform , 10 , 0.98770599006 , 0.9755147468 , 2.312548875808716\n",
      "2 , uniform , 11 , 0.987444415381 , 0.979410127991 , 2.4070940017700195\n",
      "2 , uniform , 12 , 0.986136541983 , 0.974401780746 , 2.3014562129974365\n",
      "2 , uniform , 13 , 0.985874967303 , 0.973845297718 , 2.351184844970703\n",
      "2 , uniform , 14 , 0.985613392624 , 0.971619365609 , 2.430867910385132\n",
      "2 , uniform , 15 , 0.984567093905 , 0.972732331664 , 2.3373568058013916\n",
      "2 , uniform , 16 , 0.984567093905 , 0.970506399555 , 39.790055990219116\n",
      "2 , uniform , 17 , 0.983259220507 , 0.972175848637 , 4.385331153869629\n",
      "2 , uniform , 18 , 0.983259220507 , 0.970506399555 , 2.701517105102539\n",
      "2 , uniform , 19 , 0.982212921789 , 0.971062882582 , 2.690852165222168\n",
      "2 , uniform , 20 , 0.98168977243 , 0.971062882582 , 2.6248939037323\n",
      "2 , uniform , 21 , 0.98142819775 , 0.970506399555 , 2.567018985748291\n",
      "2 , uniform , 22 , 0.981166623071 , 0.969949916528 , 2.566915988922119\n",
      "2 , uniform , 23 , 0.980381899032 , 0.969949916528 , 3.7185211181640625\n",
      "2 , uniform , 24 , 0.980381899032 , 0.969949916528 , 3.296900987625122\n",
      "2 , uniform , 25 , 0.980120324353 , 0.970506399555 , 2.5578620433807373\n",
      "2 , uniform , 26 , 0.979335600314 , 0.968280467446 , 3.5928618907928467\n",
      "2 , uniform , 27 , 0.978289301596 , 0.968836950473 , 2.533447027206421\n",
      "2 , uniform , 28 , 0.978289301596 , 0.966611018364 , 2.4664249420166016\n",
      "2 , uniform , 29 , 0.978289301596 , 0.966611018364 , 3.434551954269409\n",
      "2 , distance , 1 , 1.0 , 0.979966611018 , 1.507443904876709\n",
      "2 , distance , 2 , 1.0 , 0.979966611018 , 2.5063388347625732\n",
      "2 , distance , 3 , 1.0 , 0.978853644964 , 2.2095859050750732\n",
      "2 , distance , 4 , 1.0 , 0.9816360601 , 4.021745920181274\n",
      "2 , distance , 5 , 1.0 , 0.978853644964 , 2.818009853363037\n",
      "2 , distance , 6 , 1.0 , 0.982749026155 , 2.2079689502716064\n",
      "2 , distance , 7 , 1.0 , 0.977740678909 , 2.396865129470825\n",
      "2 , distance , 8 , 1.0 , 0.979966611018 , 2.365304946899414\n",
      "2 , distance , 9 , 1.0 , 0.977740678909 , 2.3312909603118896\n",
      "2 , distance , 10 , 1.0 , 0.979410127991 , 2.298666000366211\n",
      "2 , distance , 11 , 1.0 , 0.979410127991 , 2.341377019882202\n",
      "2 , distance , 12 , 1.0 , 0.977740678909 , 2.3614578247070312\n",
      "2 , distance , 13 , 1.0 , 0.974958263773 , 2.3240010738372803\n",
      "2 , distance , 14 , 1.0 , 0.974958263773 , 2.4491641521453857\n",
      "2 , distance , 15 , 1.0 , 0.974401780746 , 2.3429360389709473\n",
      "2 , distance , 16 , 1.0 , 0.973288814691 , 2.393321990966797\n",
      "2 , distance , 17 , 1.0 , 0.973288814691 , 2.3906350135803223\n",
      "2 , distance , 18 , 1.0 , 0.971619365609 , 2.4034860134124756\n",
      "2 , distance , 19 , 1.0 , 0.972175848637 , 2.418931007385254\n",
      "2 , distance , 20 , 1.0 , 0.972175848637 , 2.4187660217285156\n",
      "2 , distance , 21 , 1.0 , 0.971619365609 , 2.43698787689209\n",
      "2 , distance , 22 , 1.0 , 0.971619365609 , 2.4405338764190674\n",
      "2 , distance , 23 , 1.0 , 0.971619365609 , 2.4097061157226562\n",
      "2 , distance , 24 , 1.0 , 0.972175848637 , 2.3574209213256836\n",
      "2 , distance , 25 , 1.0 , 0.972175848637 , 2.444431781768799\n",
      "2 , distance , 26 , 1.0 , 0.972175848637 , 2.4296810626983643\n",
      "2 , distance , 27 , 1.0 , 0.9693934335 , 2.505885124206543\n",
      "2 , distance , 28 , 1.0 , 0.968836950473 , 2.693943977355957\n",
      "2 , distance , 29 , 1.0 , 0.968280467446 , 2.4174280166625977\n"
     ]
    }
   ],
   "source": [
    "print(\"metric,weight,neighbor,accuracy/train,accuracy/test,time\")\n",
    "for metric in metrics:\n",
    "    for weight in weights:\n",
    "        for neighbor in neighbors:\n",
    "            clf = KNeighborsClassifier(n_neighbors = neighbor, weights=weight,p=metric)\n",
    "            start = time()\n",
    "            clf.fit(X_train, y_train.values.ravel())\n",
    "            print(metric , \",\" , weight , \",\" , neighbor , \",\" ,clf.score(X_train,y_train) , \",\" , \n",
    "                  clf.score(X_test,y_test) , \",\" , time() - start)"
   ]
  },
  {
   "cell_type": "code",
   "execution_count": 66,
   "metadata": {
    "collapsed": false
   },
   "outputs": [],
   "source": [
    "# build a normalizer\n",
    "scaler = StandardScaler()\n",
    "# normalize training and test set between [-1,1] with 0 mean and 1 standard deviation\n",
    "scaler.fit(X_train)  \n",
    "X_train_normalize = scaler.transform(X_train)  \n",
    "X_test_normalize = scaler.transform(X_test)"
   ]
  },
  {
   "cell_type": "code",
   "execution_count": 67,
   "metadata": {
    "collapsed": false
   },
   "outputs": [
    {
     "name": "stdout",
     "output_type": "stream",
     "text": [
      "metric,weight,neighbor,accuracy/train,accuracy/test,time\n",
      "1 , uniform , 1 , 1.0 , 0.9693934335 , 1.866602897644043\n",
      "1 , uniform , 2 , 0.98796756474 , 0.958263772955 , 1.894063949584961\n",
      "1 , uniform , 3 , 0.991106460895 , 0.967167501391 , 1.8961939811706543\n",
      "1 , uniform , 4 , 0.986921266021 , 0.963828603228 , 1.9817531108856201\n",
      "1 , uniform , 5 , 0.986921266021 , 0.9693934335 , 7.071151971817017\n",
      "1 , uniform , 6 , 0.986659691342 , 0.967167501391 , 7.046056032180786\n"
     ]
    },
    {
     "ename": "KeyboardInterrupt",
     "evalue": "",
     "output_type": "error",
     "traceback": [
      "\u001b[0;31m---------------------------------------------------------------------------\u001b[0m",
      "\u001b[0;31mKeyboardInterrupt\u001b[0m                         Traceback (most recent call last)",
      "\u001b[0;32m<ipython-input-67-c31cb7d3ff32>\u001b[0m in \u001b[0;36m<module>\u001b[0;34m()\u001b[0m\n\u001b[1;32m      6\u001b[0m             \u001b[0mstart\u001b[0m \u001b[0;34m=\u001b[0m \u001b[0mtime\u001b[0m\u001b[0;34m(\u001b[0m\u001b[0;34m)\u001b[0m\u001b[0;34m\u001b[0m\u001b[0m\n\u001b[1;32m      7\u001b[0m             \u001b[0mclf\u001b[0m\u001b[0;34m.\u001b[0m\u001b[0mfit\u001b[0m\u001b[0;34m(\u001b[0m\u001b[0mX_train_normalize\u001b[0m\u001b[0;34m,\u001b[0m \u001b[0my_train\u001b[0m\u001b[0;34m.\u001b[0m\u001b[0mvalues\u001b[0m\u001b[0;34m.\u001b[0m\u001b[0mravel\u001b[0m\u001b[0;34m(\u001b[0m\u001b[0;34m)\u001b[0m\u001b[0;34m)\u001b[0m\u001b[0;34m\u001b[0m\u001b[0m\n\u001b[0;32m----> 8\u001b[0;31m             print(metric , \",\" , weight , \",\" , neighbor , \",\" ,clf.score(X_train_normalize,y_train) , \",\" , \n\u001b[0m\u001b[1;32m      9\u001b[0m                   clf.score(X_test_normalize,y_test) , \",\" , time() - start)\n",
      "\u001b[0;32m/Users/fabbas1/anaconda/lib/python3.5/site-packages/sklearn/base.py\u001b[0m in \u001b[0;36mscore\u001b[0;34m(self, X, y, sample_weight)\u001b[0m\n\u001b[1;32m    347\u001b[0m         \"\"\"\n\u001b[1;32m    348\u001b[0m         \u001b[0;32mfrom\u001b[0m \u001b[0;34m.\u001b[0m\u001b[0mmetrics\u001b[0m \u001b[0;32mimport\u001b[0m \u001b[0maccuracy_score\u001b[0m\u001b[0;34m\u001b[0m\u001b[0m\n\u001b[0;32m--> 349\u001b[0;31m         \u001b[0;32mreturn\u001b[0m \u001b[0maccuracy_score\u001b[0m\u001b[0;34m(\u001b[0m\u001b[0my\u001b[0m\u001b[0;34m,\u001b[0m \u001b[0mself\u001b[0m\u001b[0;34m.\u001b[0m\u001b[0mpredict\u001b[0m\u001b[0;34m(\u001b[0m\u001b[0mX\u001b[0m\u001b[0;34m)\u001b[0m\u001b[0;34m,\u001b[0m \u001b[0msample_weight\u001b[0m\u001b[0;34m=\u001b[0m\u001b[0msample_weight\u001b[0m\u001b[0;34m)\u001b[0m\u001b[0;34m\u001b[0m\u001b[0m\n\u001b[0m\u001b[1;32m    350\u001b[0m \u001b[0;34m\u001b[0m\u001b[0m\n\u001b[1;32m    351\u001b[0m \u001b[0;34m\u001b[0m\u001b[0m\n",
      "\u001b[0;32m/Users/fabbas1/anaconda/lib/python3.5/site-packages/sklearn/neighbors/classification.py\u001b[0m in \u001b[0;36mpredict\u001b[0;34m(self, X)\u001b[0m\n\u001b[1;32m    143\u001b[0m         \u001b[0mX\u001b[0m \u001b[0;34m=\u001b[0m \u001b[0mcheck_array\u001b[0m\u001b[0;34m(\u001b[0m\u001b[0mX\u001b[0m\u001b[0;34m,\u001b[0m \u001b[0maccept_sparse\u001b[0m\u001b[0;34m=\u001b[0m\u001b[0;34m'csr'\u001b[0m\u001b[0;34m)\u001b[0m\u001b[0;34m\u001b[0m\u001b[0m\n\u001b[1;32m    144\u001b[0m \u001b[0;34m\u001b[0m\u001b[0m\n\u001b[0;32m--> 145\u001b[0;31m         \u001b[0mneigh_dist\u001b[0m\u001b[0;34m,\u001b[0m \u001b[0mneigh_ind\u001b[0m \u001b[0;34m=\u001b[0m \u001b[0mself\u001b[0m\u001b[0;34m.\u001b[0m\u001b[0mkneighbors\u001b[0m\u001b[0;34m(\u001b[0m\u001b[0mX\u001b[0m\u001b[0;34m)\u001b[0m\u001b[0;34m\u001b[0m\u001b[0m\n\u001b[0m\u001b[1;32m    146\u001b[0m \u001b[0;34m\u001b[0m\u001b[0m\n\u001b[1;32m    147\u001b[0m         \u001b[0mclasses_\u001b[0m \u001b[0;34m=\u001b[0m \u001b[0mself\u001b[0m\u001b[0;34m.\u001b[0m\u001b[0mclasses_\u001b[0m\u001b[0;34m\u001b[0m\u001b[0m\n",
      "\u001b[0;32m/Users/fabbas1/anaconda/lib/python3.5/site-packages/sklearn/neighbors/base.py\u001b[0m in \u001b[0;36mkneighbors\u001b[0;34m(self, X, n_neighbors, return_distance)\u001b[0m\n\u001b[1;32m    379\u001b[0m                 delayed(self._tree.query, check_pickle=False)(\n\u001b[1;32m    380\u001b[0m                     X[s], n_neighbors, return_distance)\n\u001b[0;32m--> 381\u001b[0;31m                 \u001b[0;32mfor\u001b[0m \u001b[0ms\u001b[0m \u001b[0;32min\u001b[0m \u001b[0mgen_even_slices\u001b[0m\u001b[0;34m(\u001b[0m\u001b[0mX\u001b[0m\u001b[0;34m.\u001b[0m\u001b[0mshape\u001b[0m\u001b[0;34m[\u001b[0m\u001b[0;36m0\u001b[0m\u001b[0;34m]\u001b[0m\u001b[0;34m,\u001b[0m \u001b[0mn_jobs\u001b[0m\u001b[0;34m)\u001b[0m\u001b[0;34m\u001b[0m\u001b[0m\n\u001b[0m\u001b[1;32m    382\u001b[0m             )\n\u001b[1;32m    383\u001b[0m             \u001b[0;32mif\u001b[0m \u001b[0mreturn_distance\u001b[0m\u001b[0;34m:\u001b[0m\u001b[0;34m\u001b[0m\u001b[0m\n",
      "\u001b[0;32m/Users/fabbas1/anaconda/lib/python3.5/site-packages/sklearn/externals/joblib/parallel.py\u001b[0m in \u001b[0;36m__call__\u001b[0;34m(self, iterable)\u001b[0m\n\u001b[1;32m    756\u001b[0m             \u001b[0;31m# was dispatched. In particular this covers the edge\u001b[0m\u001b[0;34m\u001b[0m\u001b[0;34m\u001b[0m\u001b[0m\n\u001b[1;32m    757\u001b[0m             \u001b[0;31m# case of Parallel used with an exhausted iterator.\u001b[0m\u001b[0;34m\u001b[0m\u001b[0;34m\u001b[0m\u001b[0m\n\u001b[0;32m--> 758\u001b[0;31m             \u001b[0;32mwhile\u001b[0m \u001b[0mself\u001b[0m\u001b[0;34m.\u001b[0m\u001b[0mdispatch_one_batch\u001b[0m\u001b[0;34m(\u001b[0m\u001b[0miterator\u001b[0m\u001b[0;34m)\u001b[0m\u001b[0;34m:\u001b[0m\u001b[0;34m\u001b[0m\u001b[0m\n\u001b[0m\u001b[1;32m    759\u001b[0m                 \u001b[0mself\u001b[0m\u001b[0;34m.\u001b[0m\u001b[0m_iterating\u001b[0m \u001b[0;34m=\u001b[0m \u001b[0;32mTrue\u001b[0m\u001b[0;34m\u001b[0m\u001b[0m\n\u001b[1;32m    760\u001b[0m             \u001b[0;32melse\u001b[0m\u001b[0;34m:\u001b[0m\u001b[0;34m\u001b[0m\u001b[0m\n",
      "\u001b[0;32m/Users/fabbas1/anaconda/lib/python3.5/site-packages/sklearn/externals/joblib/parallel.py\u001b[0m in \u001b[0;36mdispatch_one_batch\u001b[0;34m(self, iterator)\u001b[0m\n\u001b[1;32m    606\u001b[0m                 \u001b[0;32mreturn\u001b[0m \u001b[0;32mFalse\u001b[0m\u001b[0;34m\u001b[0m\u001b[0m\n\u001b[1;32m    607\u001b[0m             \u001b[0;32melse\u001b[0m\u001b[0;34m:\u001b[0m\u001b[0;34m\u001b[0m\u001b[0m\n\u001b[0;32m--> 608\u001b[0;31m                 \u001b[0mself\u001b[0m\u001b[0;34m.\u001b[0m\u001b[0m_dispatch\u001b[0m\u001b[0;34m(\u001b[0m\u001b[0mtasks\u001b[0m\u001b[0;34m)\u001b[0m\u001b[0;34m\u001b[0m\u001b[0m\n\u001b[0m\u001b[1;32m    609\u001b[0m                 \u001b[0;32mreturn\u001b[0m \u001b[0;32mTrue\u001b[0m\u001b[0;34m\u001b[0m\u001b[0m\n\u001b[1;32m    610\u001b[0m \u001b[0;34m\u001b[0m\u001b[0m\n",
      "\u001b[0;32m/Users/fabbas1/anaconda/lib/python3.5/site-packages/sklearn/externals/joblib/parallel.py\u001b[0m in \u001b[0;36m_dispatch\u001b[0;34m(self, batch)\u001b[0m\n\u001b[1;32m    569\u001b[0m         \u001b[0mdispatch_timestamp\u001b[0m \u001b[0;34m=\u001b[0m \u001b[0mtime\u001b[0m\u001b[0;34m.\u001b[0m\u001b[0mtime\u001b[0m\u001b[0;34m(\u001b[0m\u001b[0;34m)\u001b[0m\u001b[0;34m\u001b[0m\u001b[0m\n\u001b[1;32m    570\u001b[0m         \u001b[0mcb\u001b[0m \u001b[0;34m=\u001b[0m \u001b[0mBatchCompletionCallBack\u001b[0m\u001b[0;34m(\u001b[0m\u001b[0mdispatch_timestamp\u001b[0m\u001b[0;34m,\u001b[0m \u001b[0mlen\u001b[0m\u001b[0;34m(\u001b[0m\u001b[0mbatch\u001b[0m\u001b[0;34m)\u001b[0m\u001b[0;34m,\u001b[0m \u001b[0mself\u001b[0m\u001b[0;34m)\u001b[0m\u001b[0;34m\u001b[0m\u001b[0m\n\u001b[0;32m--> 571\u001b[0;31m         \u001b[0mjob\u001b[0m \u001b[0;34m=\u001b[0m \u001b[0mself\u001b[0m\u001b[0;34m.\u001b[0m\u001b[0m_backend\u001b[0m\u001b[0;34m.\u001b[0m\u001b[0mapply_async\u001b[0m\u001b[0;34m(\u001b[0m\u001b[0mbatch\u001b[0m\u001b[0;34m,\u001b[0m \u001b[0mcallback\u001b[0m\u001b[0;34m=\u001b[0m\u001b[0mcb\u001b[0m\u001b[0;34m)\u001b[0m\u001b[0;34m\u001b[0m\u001b[0m\n\u001b[0m\u001b[1;32m    572\u001b[0m         \u001b[0mself\u001b[0m\u001b[0;34m.\u001b[0m\u001b[0m_jobs\u001b[0m\u001b[0;34m.\u001b[0m\u001b[0mappend\u001b[0m\u001b[0;34m(\u001b[0m\u001b[0mjob\u001b[0m\u001b[0;34m)\u001b[0m\u001b[0;34m\u001b[0m\u001b[0m\n\u001b[1;32m    573\u001b[0m \u001b[0;34m\u001b[0m\u001b[0m\n",
      "\u001b[0;32m/Users/fabbas1/anaconda/lib/python3.5/site-packages/sklearn/externals/joblib/_parallel_backends.py\u001b[0m in \u001b[0;36mapply_async\u001b[0;34m(self, func, callback)\u001b[0m\n\u001b[1;32m    107\u001b[0m     \u001b[0;32mdef\u001b[0m \u001b[0mapply_async\u001b[0m\u001b[0;34m(\u001b[0m\u001b[0mself\u001b[0m\u001b[0;34m,\u001b[0m \u001b[0mfunc\u001b[0m\u001b[0;34m,\u001b[0m \u001b[0mcallback\u001b[0m\u001b[0;34m=\u001b[0m\u001b[0;32mNone\u001b[0m\u001b[0;34m)\u001b[0m\u001b[0;34m:\u001b[0m\u001b[0;34m\u001b[0m\u001b[0m\n\u001b[1;32m    108\u001b[0m         \u001b[0;34m\"\"\"Schedule a func to be run\"\"\"\u001b[0m\u001b[0;34m\u001b[0m\u001b[0m\n\u001b[0;32m--> 109\u001b[0;31m         \u001b[0mresult\u001b[0m \u001b[0;34m=\u001b[0m \u001b[0mImmediateResult\u001b[0m\u001b[0;34m(\u001b[0m\u001b[0mfunc\u001b[0m\u001b[0;34m)\u001b[0m\u001b[0;34m\u001b[0m\u001b[0m\n\u001b[0m\u001b[1;32m    110\u001b[0m         \u001b[0;32mif\u001b[0m \u001b[0mcallback\u001b[0m\u001b[0;34m:\u001b[0m\u001b[0;34m\u001b[0m\u001b[0m\n\u001b[1;32m    111\u001b[0m             \u001b[0mcallback\u001b[0m\u001b[0;34m(\u001b[0m\u001b[0mresult\u001b[0m\u001b[0;34m)\u001b[0m\u001b[0;34m\u001b[0m\u001b[0m\n",
      "\u001b[0;32m/Users/fabbas1/anaconda/lib/python3.5/site-packages/sklearn/externals/joblib/_parallel_backends.py\u001b[0m in \u001b[0;36m__init__\u001b[0;34m(self, batch)\u001b[0m\n\u001b[1;32m    324\u001b[0m         \u001b[0;31m# Don't delay the application, to avoid keeping the input\u001b[0m\u001b[0;34m\u001b[0m\u001b[0;34m\u001b[0m\u001b[0m\n\u001b[1;32m    325\u001b[0m         \u001b[0;31m# arguments in memory\u001b[0m\u001b[0;34m\u001b[0m\u001b[0;34m\u001b[0m\u001b[0m\n\u001b[0;32m--> 326\u001b[0;31m         \u001b[0mself\u001b[0m\u001b[0;34m.\u001b[0m\u001b[0mresults\u001b[0m \u001b[0;34m=\u001b[0m \u001b[0mbatch\u001b[0m\u001b[0;34m(\u001b[0m\u001b[0;34m)\u001b[0m\u001b[0;34m\u001b[0m\u001b[0m\n\u001b[0m\u001b[1;32m    327\u001b[0m \u001b[0;34m\u001b[0m\u001b[0m\n\u001b[1;32m    328\u001b[0m     \u001b[0;32mdef\u001b[0m \u001b[0mget\u001b[0m\u001b[0;34m(\u001b[0m\u001b[0mself\u001b[0m\u001b[0;34m)\u001b[0m\u001b[0;34m:\u001b[0m\u001b[0;34m\u001b[0m\u001b[0m\n",
      "\u001b[0;32m/Users/fabbas1/anaconda/lib/python3.5/site-packages/sklearn/externals/joblib/parallel.py\u001b[0m in \u001b[0;36m__call__\u001b[0;34m(self)\u001b[0m\n\u001b[1;32m    129\u001b[0m \u001b[0;34m\u001b[0m\u001b[0m\n\u001b[1;32m    130\u001b[0m     \u001b[0;32mdef\u001b[0m \u001b[0m__call__\u001b[0m\u001b[0;34m(\u001b[0m\u001b[0mself\u001b[0m\u001b[0;34m)\u001b[0m\u001b[0;34m:\u001b[0m\u001b[0;34m\u001b[0m\u001b[0m\n\u001b[0;32m--> 131\u001b[0;31m         \u001b[0;32mreturn\u001b[0m \u001b[0;34m[\u001b[0m\u001b[0mfunc\u001b[0m\u001b[0;34m(\u001b[0m\u001b[0;34m*\u001b[0m\u001b[0margs\u001b[0m\u001b[0;34m,\u001b[0m \u001b[0;34m**\u001b[0m\u001b[0mkwargs\u001b[0m\u001b[0;34m)\u001b[0m \u001b[0;32mfor\u001b[0m \u001b[0mfunc\u001b[0m\u001b[0;34m,\u001b[0m \u001b[0margs\u001b[0m\u001b[0;34m,\u001b[0m \u001b[0mkwargs\u001b[0m \u001b[0;32min\u001b[0m \u001b[0mself\u001b[0m\u001b[0;34m.\u001b[0m\u001b[0mitems\u001b[0m\u001b[0;34m]\u001b[0m\u001b[0;34m\u001b[0m\u001b[0m\n\u001b[0m\u001b[1;32m    132\u001b[0m \u001b[0;34m\u001b[0m\u001b[0m\n\u001b[1;32m    133\u001b[0m     \u001b[0;32mdef\u001b[0m \u001b[0m__len__\u001b[0m\u001b[0;34m(\u001b[0m\u001b[0mself\u001b[0m\u001b[0;34m)\u001b[0m\u001b[0;34m:\u001b[0m\u001b[0;34m\u001b[0m\u001b[0m\n",
      "\u001b[0;32m/Users/fabbas1/anaconda/lib/python3.5/site-packages/sklearn/externals/joblib/parallel.py\u001b[0m in \u001b[0;36m<listcomp>\u001b[0;34m(.0)\u001b[0m\n\u001b[1;32m    129\u001b[0m \u001b[0;34m\u001b[0m\u001b[0m\n\u001b[1;32m    130\u001b[0m     \u001b[0;32mdef\u001b[0m \u001b[0m__call__\u001b[0m\u001b[0;34m(\u001b[0m\u001b[0mself\u001b[0m\u001b[0;34m)\u001b[0m\u001b[0;34m:\u001b[0m\u001b[0;34m\u001b[0m\u001b[0m\n\u001b[0;32m--> 131\u001b[0;31m         \u001b[0;32mreturn\u001b[0m \u001b[0;34m[\u001b[0m\u001b[0mfunc\u001b[0m\u001b[0;34m(\u001b[0m\u001b[0;34m*\u001b[0m\u001b[0margs\u001b[0m\u001b[0;34m,\u001b[0m \u001b[0;34m**\u001b[0m\u001b[0mkwargs\u001b[0m\u001b[0;34m)\u001b[0m \u001b[0;32mfor\u001b[0m \u001b[0mfunc\u001b[0m\u001b[0;34m,\u001b[0m \u001b[0margs\u001b[0m\u001b[0;34m,\u001b[0m \u001b[0mkwargs\u001b[0m \u001b[0;32min\u001b[0m \u001b[0mself\u001b[0m\u001b[0;34m.\u001b[0m\u001b[0mitems\u001b[0m\u001b[0;34m]\u001b[0m\u001b[0;34m\u001b[0m\u001b[0m\n\u001b[0m\u001b[1;32m    132\u001b[0m \u001b[0;34m\u001b[0m\u001b[0m\n\u001b[1;32m    133\u001b[0m     \u001b[0;32mdef\u001b[0m \u001b[0m__len__\u001b[0m\u001b[0;34m(\u001b[0m\u001b[0mself\u001b[0m\u001b[0;34m)\u001b[0m\u001b[0;34m:\u001b[0m\u001b[0;34m\u001b[0m\u001b[0m\n",
      "\u001b[0;31mKeyboardInterrupt\u001b[0m: "
     ]
    }
   ],
   "source": [
    "# run it for time comparison \n",
    "print(\"metric,weight,neighbor,accuracy/train,accuracy/test,time\")\n",
    "for metric in metrics:\n",
    "    for weight in weights:\n",
    "        for neighbor in neighbors:\n",
    "            clf = KNeighborsClassifier(n_neighbors = neighbor, weights=weight,p=metric)\n",
    "            start = time()\n",
    "            clf.fit(X_train_normalize, y_train.values.ravel())\n",
    "            print(metric , \",\" , weight , \",\" , neighbor , \",\" ,clf.score(X_train_normalize,y_train) , \",\" , \n",
    "                  clf.score(X_test_normalize,y_test) , \",\" , time() - start)"
   ]
  },
  {
   "cell_type": "code",
   "execution_count": null,
   "metadata": {
    "collapsed": true
   },
   "outputs": [],
   "source": []
  }
 ],
 "metadata": {
  "anaconda-cloud": {},
  "kernelspec": {
   "display_name": "Python [conda root]",
   "language": "python",
   "name": "conda-root-py"
  },
  "language_info": {
   "codemirror_mode": {
    "name": "ipython",
    "version": 3
   },
   "file_extension": ".py",
   "mimetype": "text/x-python",
   "name": "python",
   "nbconvert_exporter": "python",
   "pygments_lexer": "ipython3",
   "version": "3.5.2"
  }
 },
 "nbformat": 4,
 "nbformat_minor": 1
}
