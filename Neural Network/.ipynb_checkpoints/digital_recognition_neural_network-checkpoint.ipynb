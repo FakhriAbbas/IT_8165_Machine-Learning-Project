{
 "cells": [
  {
   "cell_type": "code",
   "execution_count": 1,
   "metadata": {
    "collapsed": true
   },
   "outputs": [],
   "source": [
    "import pandas as pd\n",
    "from sklearn.preprocessing import StandardScaler\n",
    "from sklearn.neural_network import MLPClassifier\n",
    "from time import time"
   ]
  },
  {
   "cell_type": "code",
   "execution_count": 2,
   "metadata": {
    "collapsed": true
   },
   "outputs": [],
   "source": [
    "# reading training set\n",
    "df_train = pd.read_csv(\"/Users/fabbas1/Google Drive/study/Phd/Machine Learning/assignment/ITCS6156_SLProject/DigitRecognition/optdigits_raining.csv\", \n",
    "                 header=None)\n",
    "# reading test set\n",
    "df_test = pd.read_csv(\"/Users/fabbas1/Google Drive/study/Phd/Machine Learning/assignment/ITCS6156_SLProject/DigitRecognition/optdigits_test.csv\", \n",
    "                 header=None)"
   ]
  },
  {
   "cell_type": "code",
   "execution_count": 3,
   "metadata": {
    "collapsed": false
   },
   "outputs": [
    {
     "name": "stdout",
     "output_type": "stream",
     "text": [
      "(3823, 1)\n",
      "(3823, 64)\n"
     ]
    }
   ],
   "source": [
    "# split features from target values\n",
    "X_train =  df_train.iloc[:, :64]\n",
    "y_train = df_train.iloc[: , 64:]\n",
    "print(y_train.shape)\n",
    "print(X_train.shape)"
   ]
  },
  {
   "cell_type": "code",
   "execution_count": 4,
   "metadata": {
    "collapsed": true
   },
   "outputs": [],
   "source": [
    "# splite testing data \n",
    "X_test = df_test.iloc[:, :64]\n",
    "y_test = df_test.iloc[: , 64:]"
   ]
  },
  {
   "cell_type": "code",
   "execution_count": 5,
   "metadata": {
    "collapsed": true
   },
   "outputs": [],
   "source": [
    "# build a normalizer\n",
    "scaler = StandardScaler()"
   ]
  },
  {
   "cell_type": "code",
   "execution_count": 6,
   "metadata": {
    "collapsed": true
   },
   "outputs": [],
   "source": [
    "# normalize training and test set between [-1,1] with 0 mean and 1 standard deviation\n",
    "scaler.fit(X_train)  \n",
    "X_train_normalize = scaler.transform(X_train)  \n",
    "X_test_normalize = scaler.transform(X_test)"
   ]
  },
  {
   "cell_type": "code",
   "execution_count": 7,
   "metadata": {
    "collapsed": false
   },
   "outputs": [],
   "source": [
    "clf = MLPClassifier(solver='lbfgs', alpha=1e-5,\n",
    "                     hidden_layer_sizes=(2, 2), random_state=1)"
   ]
  },
  {
   "cell_type": "code",
   "execution_count": 9,
   "metadata": {
    "collapsed": false
   },
   "outputs": [
    {
     "name": "stdout",
     "output_type": "stream",
     "text": [
      "Train - Without normalizing  0.101752550353  in  0.062100887298583984  seconds\n",
      "Train - With normalizing  0.606853256605  in  0.7990338802337646  seconds\n"
     ]
    }
   ],
   "source": [
    "# measure time\n",
    "start = time()\n",
    "clf.fit(X_train,y_train.values.ravel())\n",
    "print( \"Train - Without normalizing \" , clf.score(X_train,y_train.values.ravel()) , \" in \" , time() - start , \" seconds\")\n",
    "start = time()\n",
    "clf.fit(X_train_normalize,y_train.values.ravel())\n",
    "print( \"Train - With normalizing \" , clf.score(X_train_normalize,y_train.values.ravel()) , \" in \" , time() - start , \" seconds\" )"
   ]
  },
  {
   "cell_type": "code",
   "execution_count": 12,
   "metadata": {
    "collapsed": false
   },
   "outputs": [
    {
     "name": "stdout",
     "output_type": "stream",
     "text": [
      "identity\n",
      "Without normalizing  0.732409102799  in  0.9414200782775879  seconds\n",
      "With normalizing  0.803557415642  in  0.6035029888153076  seconds\n",
      "logistic\n",
      "Without normalizing  0.29296364112  in  0.7990288734436035  seconds\n",
      "With normalizing  0.404394454617  in  0.6328220367431641  seconds\n",
      "tanh\n",
      "Without normalizing  0.208998168977  in  0.8986148834228516  seconds\n",
      "With normalizing  0.517656290871  in  0.8204119205474854  seconds\n",
      "relu\n",
      "Without normalizing  0.101752550353  in  0.03566789627075195  seconds\n",
      "With normalizing  0.606853256605  in  0.6361198425292969  seconds\n"
     ]
    }
   ],
   "source": [
    "#‘identity’, ‘logistic’, ‘tanh’, ‘relu’\n",
    "activation_functions = ['identity', 'logistic', 'tanh', 'relu']\n",
    "for activation_function in activation_functions:\n",
    "    clf = MLPClassifier(solver='lbfgs', alpha=1e-5, activation=activation_function,\n",
    "                     hidden_layer_sizes=(2, 2), random_state=1)\n",
    "    print(activation_function)\n",
    "    # measure time\n",
    "    start = time()\n",
    "    clf.fit(X_train,y_train.values.ravel())\n",
    "    print( \"Without normalizing \" , clf.score(X_train,y_train.values.ravel()) , \" in \" , time() - start , \" seconds\")\n",
    "    start = time()\n",
    "    clf.fit(X_train_normalize,y_train.values.ravel())\n",
    "    print( \"With normalizing \" , clf.score(X_train_normalize,y_train.values.ravel()) , \" in \" , time() - start , \" seconds\" )"
   ]
  },
  {
   "cell_type": "code",
   "execution_count": 14,
   "metadata": {
    "collapsed": false
   },
   "outputs": [
    {
     "name": "stdout",
     "output_type": "stream",
     "text": [
      "sgd\n"
     ]
    },
    {
     "name": "stderr",
     "output_type": "stream",
     "text": [
      "/Users/fabbas1/anaconda/lib/python3.5/site-packages/sklearn/neural_network/multilayer_perceptron.py:563: ConvergenceWarning: Stochastic Optimizer: Maximum iterations reached and the optimization hasn't converged yet.\n",
      "  % (), ConvergenceWarning)\n"
     ]
    },
    {
     "name": "stdout",
     "output_type": "stream",
     "text": [
      "With normalizing  0.662568663353  in  1.7647180557250977  seconds\n",
      "lbfgs\n",
      "With normalizing  0.803557415642  in  0.6178781986236572  seconds\n",
      "adam\n",
      "With normalizing  0.75621239864  in  1.8466999530792236  seconds\n"
     ]
    }
   ],
   "source": [
    "#‘identity’, ‘logistic’, ‘tanh’, ‘relu’\n",
    "weight_optimizer = ['sgd', 'lbfgs', 'adam' ]\n",
    "for solver in weight_optimizer:\n",
    "    clf = MLPClassifier(solver=solver, alpha=1e-5, activation='identity',\n",
    "                     hidden_layer_sizes=(2, 2), random_state=1)\n",
    "    print(solver)\n",
    "    # measure time\n",
    "    start = time()\n",
    "    clf.fit(X_train_normalize,y_train.values.ravel())\n",
    "    print( \"With normalizing \" , clf.score(X_train_normalize,y_train.values.ravel()) , \" in \" , time() - start , \" seconds\" )"
   ]
  },
  {
   "cell_type": "code",
   "execution_count": 26,
   "metadata": {
    "collapsed": false
   },
   "outputs": [
    {
     "name": "stdout",
     "output_type": "stream",
     "text": [
      "1   0.459285091543   2.3443610668182373\n",
      "2   0.77593722755   2.2074170112609863\n",
      "3   0.887358326068   2.131673812866211\n",
      "4   0.903400174368   2.1041691303253174\n",
      "5   0.920139494333   2.148458957672119\n",
      "6   0.934960767219   0.714695930480957\n",
      "7   0.949782040105   0.61136794090271\n",
      "8   0.949433304272   0.5179600715637207\n",
      "9   0.949782040105   0.5154130458831787\n",
      "10   0.95658238884   0.5122199058532715\n",
      "11   0.951700087184   0.5258491039276123\n",
      "12   0.954664341761   0.523129940032959\n",
      "13   0.953966870096   0.5029819011688232\n",
      "14   0.952223190933   0.507411003112793\n",
      "15   0.956233653008   0.5046780109405518\n",
      "16   0.95658238884   0.5056488513946533\n",
      "17   0.95379250218   0.5607068538665771\n",
      "18   0.95658238884   0.5135438442230225\n",
      "19   0.95379250218   0.5195498466491699\n"
     ]
    }
   ],
   "source": [
    "from sklearn.model_selection import ShuffleSplit\n",
    "from sklearn.model_selection import cross_val_score\n",
    "\n",
    "cv = ShuffleSplit(n_splits=5, test_size=0.3, random_state=0)\n",
    "for i in range(1,20):\n",
    "    clf = MLPClassifier(solver='lbfgs', alpha=1e-5, activation='identity',\n",
    "                     hidden_layer_sizes=(i,), random_state=1)\n",
    "    start = time()\n",
    "    scores = cross_val_score(clf, X_train_normalize, y_train.values.ravel(), cv=cv)\n",
    "    print(str(i) , \" \" , scores.mean() , \" \" , time() - start)"
   ]
  },
  {
   "cell_type": "code",
   "execution_count": 24,
   "metadata": {
    "collapsed": false
   },
   "outputs": [
    {
     "name": "stdout",
     "output_type": "stream",
     "text": [
      "1   1   0.455972101133   2.127701997756958\n",
      "1   2   0.427027027027   2.0518689155578613\n",
      "1   3   0.458238884045   2.074265956878662\n",
      "1   4   0.463469921534   2.055495023727417\n",
      "1   5   0.451089799477   2.0879600048065186\n",
      "1   6   0.426503923278   2.142798900604248\n",
      "1   7   0.424760244115   2.222460985183716\n",
      "1   8   0.443068875327   2.1504440307617188\n",
      "1   9   0.420924149956   2.342406988143921\n",
      "1   10   0.392327811683   2.2957539558410645\n",
      "2   1   0.445510026155   1.8914971351623535\n",
      "2   2   0.786399302528   2.5541698932647705\n",
      "2   3   0.770531822145   2.29443097114563\n",
      "2   4   0.768265039233   2.3217930793762207\n",
      "2   5   0.752223190933   2.6641299724578857\n",
      "2   6   0.773147340889   2.398036003112793\n",
      "2   7   0.740191804708   2.475847005844116\n",
      "2   8   0.774367916303   2.6544439792633057\n",
      "2   9   0.77262423714   2.3639779090881348\n",
      "2   10   0.744376634699   2.426102876663208\n",
      "3   1   0.458936355711   2.2066948413848877\n",
      "3   2   0.766870095902   2.261491060256958\n",
      "3   3   0.901133391456   2.3562159538269043\n",
      "3   4   0.898343504795   2.289555072784424\n",
      "3   5   0.887532693984   2.6873741149902344\n",
      "3   6   0.885789014821   2.544970989227295\n",
      "3   7   0.904097646033   2.8401238918304443\n",
      "3   8   0.900435919791   2.512035846710205\n",
      "3   9   0.906364428945   2.6583621501922607\n",
      "3   10   0.887183958152   2.8183281421661377\n",
      "4   1   0.455100261552   1.9184401035308838\n",
      "4   2   0.77454228422   2.155384063720703\n",
      "4   3   0.880732345248   2.454482078552246\n",
      "4   4   0.915431560593   2.271108865737915\n",
      "4   5   0.923452484743   2.353947877883911\n",
      "4   6   0.921185701831   2.384826898574829\n",
      "4   7   0.910026155187   2.9215381145477295\n",
      "4   8   0.913164777681   2.4053940773010254\n",
      "4   9   0.908108108108   2.459787130355835\n",
      "4   10   0.919616390584   2.524902105331421\n",
      "5   1   0.41743679163   1.923105001449585\n",
      "5   2   0.772101133391   2.2393078804016113\n",
      "5   3   0.894507410636   2.296501874923706\n",
      "5   4   0.92502179599   2.2800939083099365\n",
      "5   5   0.924847428073   2.1300101280212402\n",
      "5   6   0.930427201395   1.7609989643096924\n",
      "5   7   0.922231909329   2.315880060195923\n",
      "5   8   0.923452484743   2.986146926879883\n",
      "5   9   0.918047079337   2.523483991622925\n",
      "5   10   0.923278116827   2.4739880561828613\n",
      "6   1   0.433129904098   2.0032620429992676\n",
      "6   2   0.773147340889   2.223257064819336\n",
      "6   3   0.902877070619   2.3474769592285156\n",
      "6   4   0.912641673932   2.5278890132904053\n",
      "6   5   0.925719267655   1.9593439102172852\n",
      "6   6   0.934960767219   1.4581148624420166\n",
      "6   7   0.9358326068   1.34309720993042\n",
      "6   8   0.94385353095   0.9647819995880127\n",
      "6   9   0.947340889276   0.9851779937744141\n",
      "6   10   0.939668700959   1.205359935760498\n",
      "7   1   0.455274629468   2.003403902053833\n",
      "7   2   0.783609415867   2.3067591190338135\n",
      "7   3   0.889102005231   2.591384172439575\n",
      "7   4   0.91508282476   2.374894857406616\n",
      "7   5   0.927288578901   1.7790791988372803\n",
      "7   6   0.941586748038   1.1070899963378906\n",
      "7   7   0.947689625109   0.8599579334259033\n",
      "7   8   0.94385353095   1.054121971130371\n",
      "7   9   0.951002615519   0.8351678848266602\n",
      "7   10   0.942632955536   0.9812920093536377\n",
      "8   1   0.434001743679   2.1475658416748047\n",
      "8   2   0.780122057541   2.2421770095825195\n",
      "8   3   0.905143853531   2.3606419563293457\n",
      "8   4   0.925196163906   2.3641610145568848\n",
      "8   5   0.924847428073   2.101590871810913\n",
      "8   6   0.938971229294   1.020752191543579\n",
      "8   7   0.950305143854   1.0501408576965332\n",
      "8   8   0.947863993025   0.749406099319458\n",
      "8   9   0.951351351351   0.8557839393615723\n",
      "8   10   0.955013077594   0.7937939167022705\n",
      "9   1   0.468177855275   2.2606048583984375\n",
      "9   2   0.777506538797   2.3835670948028564\n",
      "9   3   0.887881429817   2.41313099861145\n",
      "9   4   0.925544899738   2.4196109771728516\n",
      "9   5   0.929206625981   2.6898200511932373\n",
      "9   6   0.940889276373   1.0391349792480469\n",
      "9   7   0.946469049695   0.9697859287261963\n",
      "9   8   0.951176983435   0.8008701801300049\n",
      "9   9   0.948910200523   0.9156458377838135\n",
      "9   10   0.94716652136   0.7728300094604492\n",
      "10   1   0.447079337402   2.1786458492279053\n",
      "10   2   0.778378378378   2.385411024093628\n",
      "10   3   0.894507410636   2.4766581058502197\n",
      "10   4   0.910897994769   2.5608279705047607\n",
      "10   5   0.92170880558   2.04072904586792\n",
      "10   6   0.944376634699   1.1553990840911865\n",
      "10   7   0.951002615519   0.9703881740570068\n",
      "10   8   0.95047951177   0.8422679901123047\n",
      "10   9   0.94856146469   0.8601419925689697\n",
      "10   10   0.954489973845   0.8313620090484619\n"
     ]
    }
   ],
   "source": [
    "from sklearn.model_selection import ShuffleSplit\n",
    "from sklearn.model_selection import cross_val_score\n",
    "\n",
    "cv = ShuffleSplit(n_splits=5, test_size=0.3, random_state=0)\n",
    "for j in range(1,11):\n",
    "    for i in range(1,11):\n",
    "        clf = MLPClassifier(solver='lbfgs', alpha=1e-5, activation='identity',\n",
    "                         hidden_layer_sizes=(i,j), random_state=1)\n",
    "        start = time()\n",
    "        scores = cross_val_score(clf, X_train_normalize, y_train.values.ravel(), cv=cv)\n",
    "        print(str(j) , \" \" , str(i) , \" \" , scores.mean() , \" \" , time() - start)"
   ]
  },
  {
   "cell_type": "code",
   "execution_count": 31,
   "metadata": {
    "collapsed": false
   },
   "outputs": [
    {
     "data": {
      "text/plain": [
       "0.9393433500278241"
      ]
     },
     "execution_count": 31,
     "metadata": {},
     "output_type": "execute_result"
    }
   ],
   "source": [
    "from sklearn.model_selection import ShuffleSplit\n",
    "from sklearn.model_selection import cross_val_score\n",
    "\n",
    "clf = MLPClassifier(solver='lbfgs', alpha=1e-5, activation='identity',\n",
    "                     hidden_layer_sizes=(10,), random_state=1,max_iter=200)\n",
    "clf.fit(X_train_normalize, y_train.values.ravel())\n",
    "clf.score(X_test_normalize,y_test)\n"
   ]
  },
  {
   "cell_type": "code",
   "execution_count": null,
   "metadata": {
    "collapsed": true
   },
   "outputs": [],
   "source": []
  }
 ],
 "metadata": {
  "anaconda-cloud": {},
  "kernelspec": {
   "display_name": "Python [conda root]",
   "language": "python",
   "name": "conda-root-py"
  },
  "language_info": {
   "codemirror_mode": {
    "name": "ipython",
    "version": 3
   },
   "file_extension": ".py",
   "mimetype": "text/x-python",
   "name": "python",
   "nbconvert_exporter": "python",
   "pygments_lexer": "ipython3",
   "version": "3.5.2"
  }
 },
 "nbformat": 4,
 "nbformat_minor": 1
}
